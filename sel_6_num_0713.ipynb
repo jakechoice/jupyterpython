{
 "cells": [
  {
   "cell_type": "markdown",
   "metadata": {},
   "source": [
    "# Select 6 Numbers from 1~45"
   ]
  },
  {
   "cell_type": "code",
   "execution_count": 47,
   "metadata": {},
   "outputs": [
    {
     "name": "stdout",
     "output_type": "stream",
     "text": [
      "[919, 9, 14, 17, 18, 42, 44, 35]\n",
      "[(2, 5), (10, 4), (11, 4), (13, 7), (29, 5), (42, 4)]\n",
      "[ 2 10 11 13 29 42]\n",
      "38\n",
      "38\n",
      "[15, 16, 19, 27, 32, 33, 36]\n"
     ]
    }
   ],
   "source": [
    "\n",
    "\n",
    "\n",
    "#DD=[int(x) for x in input().split(',')]\n",
    "\n",
    "DD=[919,9,14,17,18,42,44,35]\n",
    "print(DD)\n",
    "\n",
    "#N=int(input(\"mixing number N=\"))\n",
    "N=15\n",
    "\n",
    "import random\n",
    "import operator\n",
    "import numpy as np\n",
    "\n",
    "num_list=[]\n",
    "x_list=[]\n",
    "x_bask=[]\n",
    "x_bask_sort=[]\n",
    "x_num={}\n",
    "x_lotto={}\n",
    "y_lotto=[]\n",
    "keep=[]\n",
    "\n",
    "for i in range(45):\n",
    "    num_list.append(i+1)\n",
    "\n",
    "\n",
    "# 45번까지 숫자중 6개 숫자를 랜덤 으로 N번 추출하여 리스트에에 담고,\n",
    "for j in range(N):\n",
    "  x_6=random.sample(num_list,6)\n",
    "  x_list.append(x_6)\n",
    "  \n",
    "  for k in range(6):\n",
    "    x_bask.append(x_6[k])\n",
    "    \n",
    "  #print(f'x_lotto_random={x_6}')\n",
    "x_bask_sort=sorted(x_bask)    \n",
    "#print(x_bask_sort)\n",
    "\n",
    "# x_bask_sort 에 담긴 오름차순으로 배열된 6*N의 수를 x_num dictionary에 key(1~45 중의 수) : value(나온 회수)로 나눠 담는다\n",
    "for i in x_bask_sort:\n",
    "    k=0\n",
    "    for j in x_bask_sort:\n",
    "        if i==j:\n",
    "            k=k+1\n",
    "            continue\n",
    "        x_num[i]=k\n",
    "#print(x_num)\n",
    "\n",
    "# key(1~45 고유수)의 오름차순으로 배열된 x_num 딕셔너리를 value 내림차순으로 재정열하여 x_lotto 리스트에 담는다\n",
    "#x_lotto=sorted(x_num.items(),key=lambda item:item[1])  # dictionary acending sort by value\n",
    "\n",
    "x_lotto=sorted(x_num.items(),key=lambda item:item[1], reverse=True) # dictionary decending sort by value\n",
    "\n",
    "#x_lotto=sorted(x_num.items(),key=operator.itemgetter(0))\n",
    "# 인자값에 있는 key=operator.itemgetter(0)는 정렬하고자 하는 키 값을 0번째 인덱스 기준으로 하겠다는 것입니다.\n",
    "# 0번째 인자는 Key입니다. itemgetter(1)의 1번째 인자는 value 입니다.\n",
    "\n",
    "# value  내림차순으로 정렬되어 있으므로 앞에서 6개까지 꺼내어 y_lotto 리스트에 담고  \n",
    "# sorted 하면 key(첫번째 column)기준으로 오름차순 재배열된다\n",
    "for k in range(6):\n",
    " y_lotto.append(x_lotto[k])\n",
    "\n",
    "b=sorted(y_lotto)\n",
    "print(b)\n",
    "\n",
    "# 리스트를 np.array()로 행렬로 바꾸어 column 만 프린트합니다\n",
    "bb=np.array(b)\n",
    "print(bb[:,0])\n",
    "\n",
    "\n",
    "b_list=list(x_num.keys())\n",
    "print(len(b_list))\n",
    "\n",
    "k=0\n",
    "for i in range(45):\n",
    "  ia=i+1\n",
    "  if ia in b_list:\n",
    "        k +=1\n",
    "  else :\n",
    "        keep.append(ia) \n",
    "print(k)\n",
    "print(keep)\n",
    "        \n",
    "    \n"
   ]
  },
  {
   "cell_type": "code",
   "execution_count": null,
   "metadata": {},
   "outputs": [],
   "source": []
  }
 ],
 "metadata": {
  "kernelspec": {
   "display_name": "Python 3",
   "language": "python",
   "name": "python3"
  },
  "language_info": {
   "codemirror_mode": {
    "name": "ipython",
    "version": 3
   },
   "file_extension": ".py",
   "mimetype": "text/x-python",
   "name": "python",
   "nbconvert_exporter": "python",
   "pygments_lexer": "ipython3",
   "version": "3.7.6"
  }
 },
 "nbformat": 4,
 "nbformat_minor": 4
}
